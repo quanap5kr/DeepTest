{
  "nbformat": 4,
  "nbformat_minor": 0,
  "metadata": {
    "colab": {
      "name": "RecurentNeuralNetworkVanilaTest.ipynb",
      "version": "0.3.2",
      "provenance": [],
      "collapsed_sections": [],
      "include_colab_link": true
    },
    "kernelspec": {
      "name": "python3",
      "display_name": "Python 3"
    },
    "accelerator": "GPU"
  },
  "cells": [
    {
      "cell_type": "markdown",
      "metadata": {
        "id": "view-in-github",
        "colab_type": "text"
      },
      "source": [
        "<a href=\"https://colab.research.google.com/github/quanap5kr/DeepTest/blob/master/RecurentNeuralNetworkVanilaTest.ipynb\" target=\"_parent\"><img src=\"https://colab.research.google.com/assets/colab-badge.svg\" alt=\"Open In Colab\"/></a>"
      ]
    },
    {
      "cell_type": "code",
      "metadata": {
        "id": "h_cQdx_uMajP",
        "colab_type": "code",
        "outputId": "704030fb-0495-47b4-9ab2-230c3acd80e2",
        "colab": {
          "base_uri": "https://localhost:8080/",
          "height": 33
        }
      },
      "source": [
        "from google.colab import drive\n",
        "drive.mount('/content/gdrive/')"
      ],
      "execution_count": 1,
      "outputs": [
        {
          "output_type": "stream",
          "text": [
            "Drive already mounted at /content/gdrive/; to attempt to forcibly remount, call drive.mount(\"/content/gdrive/\", force_remount=True).\n"
          ],
          "name": "stdout"
        }
      ]
    },
    {
      "cell_type": "markdown",
      "metadata": {
        "id": "5EBcSjUNKvrP",
        "colab_type": "text"
      },
      "source": [
        "###Vanila-RNN Test 01"
      ]
    },
    {
      "cell_type": "code",
      "metadata": {
        "id": "aWpiN4IvK3SD",
        "colab_type": "code",
        "outputId": "8f4859ec-20df-4090-f8a1-00dc60b3746c",
        "colab": {
          "base_uri": "https://localhost:8080/",
          "height": 67
        }
      },
      "source": [
        "from keras.models import Model\n",
        "from keras.layers import Input\n",
        "from keras.layers import SimpleRNN\n",
        "from numpy import array\n",
        "import keras\n",
        "import warnings\n",
        "warnings.filterwarnings('ignore')\n",
        "\n",
        "k_init = keras.initializers.Constant(value=0.1)\n",
        "b_init = keras.initializers.Constant(value=0.05)\n",
        "r_init = keras.initializers.Constant(value=0.1)\n",
        "# VanilaRNN units\n",
        "units = 2\n",
        "\n",
        "# define model\n",
        "inputs1 = Input(shape=(3, 2))\n",
        "# we should setting recurrent_activation = 'sigmoid' because default as 'hard_sigmoid'\n",
        "vanila = SimpleRNN(units, return_sequences = True, use_bias=False, activation='tanh',kernel_initializer=k_init, bias_initializer=b_init, recurrent_initializer=r_init)(inputs1)\n",
        "model = Model(inputs=inputs1, outputs=vanila)\n",
        "# define input data\n",
        "data = array([0.1, 0.2, 0.3, 0.1, 0.2, 0.3]).reshape((1,3,2))\n",
        "# make and show prediction\n",
        "output = model.predict(data)\n",
        "print(output, output.shape)"
      ],
      "execution_count": 7,
      "outputs": [
        {
          "output_type": "stream",
          "text": [
            "[[[0.029991   0.029991  ]\n",
            "  [0.04596579 0.04596579]\n",
            "  [0.05912413 0.05912413]]] (1, 3, 2)\n"
          ],
          "name": "stdout"
        }
      ]
    },
    {
      "cell_type": "markdown",
      "metadata": {
        "id": "V6lbL73tJt98",
        "colab_type": "text"
      },
      "source": [
        "### Vanila-RNN Test 02"
      ]
    },
    {
      "cell_type": "code",
      "metadata": {
        "id": "9UTaxklNJxQt",
        "colab_type": "code",
        "outputId": "5e4797c3-5a6e-4ddf-f6a0-270783f5f425",
        "colab": {
          "base_uri": "https://localhost:8080/",
          "height": 67
        }
      },
      "source": [
        "from keras.models import Model\n",
        "from keras.layers import Input\n",
        "from keras.layers import SimpleRNN\n",
        "from numpy import array\n",
        "import keras\n",
        "import warnings\n",
        "warnings.filterwarnings('ignore')\n",
        "\n",
        "k_init = keras.initializers.Constant(value=0.1)\n",
        "b_init = keras.initializers.Constant(value=0.05)\n",
        "r_init = keras.initializers.Constant(value=0.1)\n",
        "# VanilaRNN units\n",
        "units = 2\n",
        "\n",
        "# define model\n",
        "inputs1 = Input(shape=(3, 2))\n",
        "# we should setting recurrent_activation = 'sigmoid' because default as 'hard_sigmoid'\n",
        "vanila = SimpleRNN(units, return_sequences = True, use_bias=False, activation='linear',kernel_initializer=k_init, bias_initializer=b_init, recurrent_initializer=r_init)(inputs1)\n",
        "model = Model(inputs=inputs1, outputs=vanila)\n",
        "# define input data\n",
        "data = array([0.1, 0.2, 0.3, 0.1, 0.2, 0.3]).reshape((1,3,2))\n",
        "# make and show prediction\n",
        "output = model.predict(data)\n",
        "print(output, output.shape)"
      ],
      "execution_count": 8,
      "outputs": [
        {
          "output_type": "stream",
          "text": [
            "[[[0.03   0.03  ]\n",
            "  [0.046  0.046 ]\n",
            "  [0.0592 0.0592]]] (1, 3, 2)\n"
          ],
          "name": "stdout"
        }
      ]
    },
    {
      "cell_type": "markdown",
      "metadata": {
        "id": "LgNCmOnDIVbL",
        "colab_type": "text"
      },
      "source": [
        "### Vanila-RNN Test 03"
      ]
    },
    {
      "cell_type": "code",
      "metadata": {
        "id": "TDX0ONUSZRET",
        "colab_type": "code",
        "outputId": "8ccbbfd4-9326-4607-87a7-0ad846765ab0",
        "colab": {
          "base_uri": "https://localhost:8080/",
          "height": 67
        }
      },
      "source": [
        "from keras.models import Model\n",
        "from keras.layers import Input\n",
        "from keras.layers import SimpleRNN\n",
        "from numpy import array\n",
        "import keras\n",
        "import warnings\n",
        "warnings.filterwarnings('ignore')\n",
        "\n",
        "k_init = keras.initializers.Constant(value=0.1)\n",
        "b_init = keras.initializers.Constant(value=0.5)\n",
        "r_init = keras.initializers.Constant(value=0.1)\n",
        "# VanilaRNN units\n",
        "units = 2\n",
        "\n",
        "# define model\n",
        "inputs1 = Input(shape=(3, 2))\n",
        "# we should setting recurrent_activation = 'sigmoid' because default as 'hard_sigmoid'\n",
        "vanila = SimpleRNN(units, return_sequences = True, use_bias=True, activation='linear',kernel_initializer=k_init, bias_initializer=b_init, recurrent_initializer=r_init)(inputs1)\n",
        "model = Model(inputs=inputs1, outputs=vanila)\n",
        "# define input data\n",
        "data = array([0.1, 0.2, 0.3, 0.1, 0.2, 0.3]).reshape((1,3,2))\n",
        "# make and show prediction\n",
        "output = model.predict(data)\n",
        "print(output, output.shape)"
      ],
      "execution_count": 11,
      "outputs": [
        {
          "output_type": "stream",
          "text": [
            "[[[0.53       0.53      ]\n",
            "  [0.646      0.646     ]\n",
            "  [0.67920005 0.67920005]]] (1, 3, 2)\n"
          ],
          "name": "stdout"
        }
      ]
    },
    {
      "cell_type": "markdown",
      "metadata": {
        "id": "Foew9-fVPN1O",
        "colab_type": "text"
      },
      "source": [
        "### Vanila-RNN Test04"
      ]
    },
    {
      "cell_type": "code",
      "metadata": {
        "id": "zj4JfC4yPRGI",
        "colab_type": "code",
        "colab": {
          "base_uri": "https://localhost:8080/",
          "height": 33
        },
        "outputId": "75bd2666-6512-45f9-e577-8bfb6950374a"
      },
      "source": [
        "from keras.models import Model\n",
        "from keras.layers import Input\n",
        "from keras.layers import SimpleRNN\n",
        "from numpy import array\n",
        "import keras\n",
        "import warnings\n",
        "warnings.filterwarnings('ignore')\n",
        "\n",
        "k_init = keras.initializers.Constant(value=0.1)\n",
        "b_init = keras.initializers.Constant(value=0.0)\n",
        "r_init = keras.initializers.Constant(value=0.1)\n",
        "# VanilaRNN units\n",
        "units = 2\n",
        "\n",
        "# define model\n",
        "inputs1 = Input(shape=(3, 2))\n",
        "# we should setting recurrent_activation = 'sigmoid' because default as 'hard_sigmoid'\n",
        "vanila = SimpleRNN(units, return_sequences = False, use_bias=True, activation='tanh',kernel_initializer=k_init, bias_initializer=b_init, recurrent_initializer=r_init)(inputs1)\n",
        "model = Model(inputs=inputs1, outputs=vanila)\n",
        "# define input data\n",
        "data = array([0.1, 0.2, 0.3, 0.1, 0.2, 0.3]).reshape((1,3,2))\n",
        "# make and show prediction\n",
        "output = model.predict(data)\n",
        "print(output, output.shape)"
      ],
      "execution_count": 13,
      "outputs": [
        {
          "output_type": "stream",
          "text": [
            "[[0.05912413 0.05912413]] (1, 2)\n"
          ],
          "name": "stdout"
        }
      ]
    },
    {
      "cell_type": "markdown",
      "metadata": {
        "id": "8ftpEUx2Pfsr",
        "colab_type": "text"
      },
      "source": [
        "###Bonus"
      ]
    },
    {
      "cell_type": "code",
      "metadata": {
        "id": "sU0l2sRzN-j1",
        "colab_type": "code",
        "outputId": "04c197bb-85d1-4573-ba58-14fd0d87d80e",
        "colab": {
          "base_uri": "https://localhost:8080/",
          "height": 137
        }
      },
      "source": [
        "for layer in model.layers:\n",
        "  g=layer.get_config()\n",
        "  h=layer.get_weights()\n",
        "  print (g)\n",
        "  print (h)"
      ],
      "execution_count": 14,
      "outputs": [
        {
          "output_type": "stream",
          "text": [
            "{'batch_input_shape': (None, 3, 2), 'dtype': 'float32', 'sparse': False, 'name': 'input_10'}\n",
            "[]\n",
            "{'name': 'simple_rnn_9', 'trainable': True, 'return_sequences': False, 'return_state': False, 'go_backwards': False, 'stateful': False, 'unroll': False, 'units': 2, 'activation': 'tanh', 'use_bias': True, 'kernel_initializer': {'class_name': 'Constant', 'config': {'value': 0.1}}, 'recurrent_initializer': {'class_name': 'Constant', 'config': {'value': 0.1}}, 'bias_initializer': {'class_name': 'Constant', 'config': {'value': 0.0}}, 'kernel_regularizer': None, 'recurrent_regularizer': None, 'bias_regularizer': None, 'activity_regularizer': None, 'kernel_constraint': None, 'recurrent_constraint': None, 'bias_constraint': None, 'dropout': 0.0, 'recurrent_dropout': 0.0}\n",
            "[array([[0.1, 0.1],\n",
            "       [0.1, 0.1]], dtype=float32), array([[0.1, 0.1],\n",
            "       [0.1, 0.1]], dtype=float32), array([0., 0.], dtype=float32)]\n"
          ],
          "name": "stdout"
        }
      ]
    }
  ]
}