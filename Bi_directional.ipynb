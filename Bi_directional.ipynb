{
  "nbformat": 4,
  "nbformat_minor": 0,
  "metadata": {
    "colab": {
      "name": "Bi-directional.ipynb",
      "version": "0.3.2",
      "provenance": [],
      "collapsed_sections": [],
      "include_colab_link": true
    },
    "kernelspec": {
      "name": "python3",
      "display_name": "Python 3"
    },
    "accelerator": "GPU"
  },
  "cells": [
    {
      "cell_type": "markdown",
      "metadata": {
        "id": "view-in-github",
        "colab_type": "text"
      },
      "source": [
        "<a href=\"https://colab.research.google.com/github/quanap5kr/DeepTest/blob/master/Bi_directional.ipynb\" target=\"_parent\"><img src=\"https://colab.research.google.com/assets/colab-badge.svg\" alt=\"Open In Colab\"/></a>"
      ]
    },
    {
      "cell_type": "code",
      "metadata": {
        "id": "h_cQdx_uMajP",
        "colab_type": "code",
        "colab": {}
      },
      "source": [
        "from google.colab import drive\n",
        "drive.mount('/content/gdrive/')"
      ],
      "execution_count": 0,
      "outputs": []
    },
    {
      "cell_type": "markdown",
      "metadata": {
        "id": "5EBcSjUNKvrP",
        "colab_type": "text"
      },
      "source": [
        "###Bi-directional Test 01"
      ]
    },
    {
      "cell_type": "code",
      "metadata": {
        "id": "aWpiN4IvK3SD",
        "colab_type": "code",
        "outputId": "e8d5ad75-e043-42ac-cebf-c64db318a59b",
        "colab": {
          "base_uri": "https://localhost:8080/",
          "height": 187
        }
      },
      "source": [
        "from keras.models import Model\n",
        "from keras.layers import Input\n",
        "from keras.layers import LSTM, Bidirectional\n",
        "from numpy import array\n",
        "import keras\n",
        "import warnings\n",
        "warnings.filterwarnings('ignore')\n",
        "\n",
        "k_init = keras.initializers.Constant(value=0.1)\n",
        "b_init = keras.initializers.Constant(value=0.00)\n",
        "r_init = keras.initializers.Constant(value=0.1)\n",
        "# LSTM units\n",
        "units = 2\n",
        "\n",
        "# define model\n",
        "inputs1 = Input(shape=(3, 2))\n",
        "# we should setting recurrent_activation = 'sigmoid' because default as 'hard_sigmoid'\n",
        "# lstm = LSTM(units, return_sequences = True, recurrent_activation='sigmoid', use_bias=False, activation='tanh',kernel_initializer=k_init, bias_initializer=b_init, recurrent_initializer=r_init)(inputs1)\n",
        "bi = Bidirectional(LSTM(2, return_sequences=False, recurrent_activation='sigmoid', use_bias=False, activation='tanh', kernel_initializer=k_init, bias_initializer=b_init, recurrent_initializer=r_init), merge_mode='sum')(inputs1)\n",
        "model = Model(inputs=inputs1, outputs=bi)\n",
        "for layer in model.layers:\n",
        "  g=layer.get_config()\n",
        "  h=layer.get_weights()\n",
        "  print (g)\n",
        "  print (h)\n",
        "# define input data\n",
        "data = array([0.1, 0.2, 0.3, 0.1, 0.2, 0.3]).reshape((1,3,2))\n",
        "# make and show prediction\n",
        "output = model.predict(data)\n",
        "print(output, output.shape)"
      ],
      "execution_count": 17,
      "outputs": [
        {
          "output_type": "stream",
          "text": [
            "{'batch_input_shape': (None, 3, 2), 'dtype': 'float32', 'sparse': False, 'name': 'input_15'}\n",
            "[]\n",
            "{'name': 'bidirectional_11', 'trainable': True, 'layer': {'class_name': 'LSTM', 'config': {'name': 'lstm_15', 'trainable': True, 'return_sequences': False, 'return_state': False, 'go_backwards': False, 'stateful': False, 'unroll': False, 'units': 2, 'activation': 'tanh', 'recurrent_activation': 'sigmoid', 'use_bias': False, 'kernel_initializer': {'class_name': 'Constant', 'config': {'value': 0.1}}, 'recurrent_initializer': {'class_name': 'Constant', 'config': {'value': 0.1}}, 'bias_initializer': {'class_name': 'Constant', 'config': {'value': 0.0}}, 'unit_forget_bias': True, 'kernel_regularizer': None, 'recurrent_regularizer': None, 'bias_regularizer': None, 'activity_regularizer': None, 'kernel_constraint': None, 'recurrent_constraint': None, 'bias_constraint': None, 'dropout': 0.0, 'recurrent_dropout': 0.0, 'implementation': 1}}, 'merge_mode': 'sum'}\n",
            "[array([[0.1, 0.1, 0.1, 0.1, 0.1, 0.1, 0.1, 0.1],\n",
            "       [0.1, 0.1, 0.1, 0.1, 0.1, 0.1, 0.1, 0.1]], dtype=float32), array([[0.1, 0.1, 0.1, 0.1, 0.1, 0.1, 0.1, 0.1],\n",
            "       [0.1, 0.1, 0.1, 0.1, 0.1, 0.1, 0.1, 0.1]], dtype=float32), array([[0.1, 0.1, 0.1, 0.1, 0.1, 0.1, 0.1, 0.1],\n",
            "       [0.1, 0.1, 0.1, 0.1, 0.1, 0.1, 0.1, 0.1]], dtype=float32), array([[0.1, 0.1, 0.1, 0.1, 0.1, 0.1, 0.1, 0.1],\n",
            "       [0.1, 0.1, 0.1, 0.1, 0.1, 0.1, 0.1, 0.1]], dtype=float32)]\n",
            "[[0.03921543 0.03921543]] (1, 2)\n"
          ],
          "name": "stdout"
        }
      ]
    },
    {
      "cell_type": "markdown",
      "metadata": {
        "id": "V6lbL73tJt98",
        "colab_type": "text"
      },
      "source": [
        "###Bi-directional Test 02"
      ]
    },
    {
      "cell_type": "code",
      "metadata": {
        "id": "9UTaxklNJxQt",
        "colab_type": "code",
        "outputId": "ea5db70d-47f7-4a22-a1e9-f5d7c4786ecb",
        "colab": {
          "base_uri": "https://localhost:8080/",
          "height": 187
        }
      },
      "source": [
        "from keras.models import Model\n",
        "from keras.layers import Input\n",
        "from keras.layers import LSTM, Bidirectional\n",
        "from numpy import array\n",
        "import keras\n",
        "import warnings\n",
        "warnings.filterwarnings('ignore')\n",
        "\n",
        "k_init = keras.initializers.Constant(value=0.1)\n",
        "b_init = keras.initializers.Constant(value=0.05)\n",
        "r_init = keras.initializers.Constant(value=0.1)\n",
        "# LSTM units\n",
        "units = 2\n",
        "\n",
        "# define model\n",
        "inputs1 = Input(shape=(3, 2))\n",
        "# we should setting recurrent_activation = 'sigmoid' because default as 'hard_sigmoid'\n",
        "# lstm = LSTM(units, return_sequences = True, recurrent_activation='sigmoid', use_bias=False, activation='tanh',kernel_initializer=k_init, bias_initializer=b_init, recurrent_initializer=r_init)(inputs1)\n",
        "bi = Bidirectional(LSTM(2, return_sequences= False, recurrent_activation='sigmoid', use_bias=False, activation='linear', kernel_initializer=k_init, bias_initializer=b_init, recurrent_initializer=r_init), merge_mode='sum')(inputs1)\n",
        "model = Model(inputs=inputs1, outputs=bi)\n",
        "for layer in model.layers:\n",
        "  g=layer.get_config()\n",
        "  h=layer.get_weights()\n",
        "  print (g)\n",
        "  print (h)\n",
        "# define input data\n",
        "data = array([0.1, 0.2, 0.3, 0.1, 0.2, 0.3]).reshape((1,3,2))\n",
        "# make and show prediction\n",
        "output = model.predict(data)\n",
        "print(output, output.shape)"
      ],
      "execution_count": 27,
      "outputs": [
        {
          "output_type": "stream",
          "text": [
            "{'batch_input_shape': (None, 3, 2), 'dtype': 'float32', 'sparse': False, 'name': 'input_25'}\n",
            "[]\n",
            "{'name': 'bidirectional_21', 'trainable': True, 'layer': {'class_name': 'LSTM', 'config': {'name': 'lstm_25', 'trainable': True, 'return_sequences': False, 'return_state': False, 'go_backwards': False, 'stateful': False, 'unroll': False, 'units': 2, 'activation': 'linear', 'recurrent_activation': 'sigmoid', 'use_bias': False, 'kernel_initializer': {'class_name': 'Constant', 'config': {'value': 0.1}}, 'recurrent_initializer': {'class_name': 'Constant', 'config': {'value': 0.1}}, 'bias_initializer': {'class_name': 'Constant', 'config': {'value': 0.05}}, 'unit_forget_bias': True, 'kernel_regularizer': None, 'recurrent_regularizer': None, 'bias_regularizer': None, 'activity_regularizer': None, 'kernel_constraint': None, 'recurrent_constraint': None, 'bias_constraint': None, 'dropout': 0.0, 'recurrent_dropout': 0.0, 'implementation': 1}}, 'merge_mode': 'sum'}\n",
            "[array([[0.1, 0.1, 0.1, 0.1, 0.1, 0.1, 0.1, 0.1],\n",
            "       [0.1, 0.1, 0.1, 0.1, 0.1, 0.1, 0.1, 0.1]], dtype=float32), array([[0.1, 0.1, 0.1, 0.1, 0.1, 0.1, 0.1, 0.1],\n",
            "       [0.1, 0.1, 0.1, 0.1, 0.1, 0.1, 0.1, 0.1]], dtype=float32), array([[0.1, 0.1, 0.1, 0.1, 0.1, 0.1, 0.1, 0.1],\n",
            "       [0.1, 0.1, 0.1, 0.1, 0.1, 0.1, 0.1, 0.1]], dtype=float32), array([[0.1, 0.1, 0.1, 0.1, 0.1, 0.1, 0.1, 0.1],\n",
            "       [0.1, 0.1, 0.1, 0.1, 0.1, 0.1, 0.1, 0.1]], dtype=float32)]\n",
            "[[0.03926378 0.03926378]] (1, 2)\n"
          ],
          "name": "stdout"
        }
      ]
    },
    {
      "cell_type": "markdown",
      "metadata": {
        "id": "LgNCmOnDIVbL",
        "colab_type": "text"
      },
      "source": [
        "### Bi-directional Test 03"
      ]
    },
    {
      "cell_type": "code",
      "metadata": {
        "id": "TDX0ONUSZRET",
        "colab_type": "code",
        "outputId": "c479df1f-b63d-4427-f2fd-56e1dbc08907",
        "colab": {
          "base_uri": "https://localhost:8080/",
          "height": 221
        }
      },
      "source": [
        "from keras.models import Model\n",
        "from keras.layers import Input\n",
        "from keras.layers import LSTM, Bidirectional\n",
        "from numpy import array\n",
        "import keras\n",
        "import warnings\n",
        "warnings.filterwarnings('ignore')\n",
        "\n",
        "k_init = keras.initializers.Constant(value=0.1)\n",
        "b_init = keras.initializers.Constant(value=0.00)\n",
        "r_init = keras.initializers.Constant(value=0.2)\n",
        "# LSTM units\n",
        "units = 2\n",
        "\n",
        "# define model\n",
        "inputs1 = Input(shape=(3, 2))\n",
        "# we should setting recurrent_activation = 'sigmoid' because default as 'hard_sigmoid'\n",
        "# lstm = LSTM(units, return_sequences = True, recurrent_activation='sigmoid', use_bias=False, activation='tanh',kernel_initializer=k_init, bias_initializer=b_init, recurrent_initializer=r_init)(inputs1)\n",
        "bi = Bidirectional(LSTM(2, return_sequences=True, recurrent_activation='sigmoid', use_bias=False, activation='tanh', kernel_initializer=k_init, bias_initializer=b_init, recurrent_initializer=r_init), merge_mode='sum')(inputs1)\n",
        "model = Model(inputs=inputs1, outputs=bi)\n",
        "for layer in model.layers:\n",
        "  g=layer.get_config()\n",
        "  h=layer.get_weights()\n",
        "  print (g)\n",
        "  print (h)\n",
        "# define input data\n",
        "data = array([0.1, 0.2, 0.3, 0.1, 0.2, 0.3]).reshape((1,3,2))\n",
        "# make and show prediction\n",
        "output = model.predict(data)\n",
        "print(output, output.shape)"
      ],
      "execution_count": 32,
      "outputs": [
        {
          "output_type": "stream",
          "text": [
            "{'batch_input_shape': (None, 3, 2), 'dtype': 'float32', 'sparse': False, 'name': 'input_29'}\n",
            "[]\n",
            "{'name': 'bidirectional_25', 'trainable': True, 'layer': {'class_name': 'LSTM', 'config': {'name': 'lstm_29', 'trainable': True, 'return_sequences': True, 'return_state': False, 'go_backwards': False, 'stateful': False, 'unroll': False, 'units': 2, 'activation': 'tanh', 'recurrent_activation': 'sigmoid', 'use_bias': False, 'kernel_initializer': {'class_name': 'Constant', 'config': {'value': 0.1}}, 'recurrent_initializer': {'class_name': 'Constant', 'config': {'value': 0.2}}, 'bias_initializer': {'class_name': 'Constant', 'config': {'value': 0.0}}, 'unit_forget_bias': True, 'kernel_regularizer': None, 'recurrent_regularizer': None, 'bias_regularizer': None, 'activity_regularizer': None, 'kernel_constraint': None, 'recurrent_constraint': None, 'bias_constraint': None, 'dropout': 0.0, 'recurrent_dropout': 0.0, 'implementation': 1}}, 'merge_mode': 'sum'}\n",
            "[array([[0.1, 0.1, 0.1, 0.1, 0.1, 0.1, 0.1, 0.1],\n",
            "       [0.1, 0.1, 0.1, 0.1, 0.1, 0.1, 0.1, 0.1]], dtype=float32), array([[0.2, 0.2, 0.2, 0.2, 0.2, 0.2, 0.2, 0.2],\n",
            "       [0.2, 0.2, 0.2, 0.2, 0.2, 0.2, 0.2, 0.2]], dtype=float32), array([[0.1, 0.1, 0.1, 0.1, 0.1, 0.1, 0.1, 0.1],\n",
            "       [0.1, 0.1, 0.1, 0.1, 0.1, 0.1, 0.1, 0.1]], dtype=float32), array([[0.2, 0.2, 0.2, 0.2, 0.2, 0.2, 0.2, 0.2],\n",
            "       [0.2, 0.2, 0.2, 0.2, 0.2, 0.2, 0.2, 0.2]], dtype=float32)]\n",
            "[[[0.02680846 0.02680846]\n",
            "  [0.03370785 0.03370785]\n",
            "  [0.03577129 0.03577129]]] (1, 3, 2)\n"
          ],
          "name": "stdout"
        }
      ]
    },
    {
      "cell_type": "markdown",
      "metadata": {
        "id": "AT32bXDdfC54",
        "colab_type": "text"
      },
      "source": [
        "###Bonus"
      ]
    },
    {
      "cell_type": "code",
      "metadata": {
        "id": "sU0l2sRzN-j1",
        "colab_type": "code",
        "outputId": "40ceaebc-d072-475a-a6e7-bbbe9ca08822",
        "colab": {
          "base_uri": "https://localhost:8080/",
          "height": 170
        }
      },
      "source": [
        "for layer in model.layers:\n",
        "  g=layer.get_config()\n",
        "  h=layer.get_weights()\n",
        "  print (g)\n",
        "  print (h)"
      ],
      "execution_count": 28,
      "outputs": [
        {
          "output_type": "stream",
          "text": [
            "{'batch_input_shape': (None, 3, 2), 'dtype': 'float32', 'sparse': False, 'name': 'input_25'}\n",
            "[]\n",
            "{'name': 'bidirectional_21', 'trainable': True, 'layer': {'class_name': 'LSTM', 'config': {'name': 'lstm_25', 'trainable': True, 'return_sequences': False, 'return_state': False, 'go_backwards': False, 'stateful': False, 'unroll': False, 'units': 2, 'activation': 'linear', 'recurrent_activation': 'sigmoid', 'use_bias': False, 'kernel_initializer': {'class_name': 'Constant', 'config': {'value': 0.1}}, 'recurrent_initializer': {'class_name': 'Constant', 'config': {'value': 0.1}}, 'bias_initializer': {'class_name': 'Constant', 'config': {'value': 0.05}}, 'unit_forget_bias': True, 'kernel_regularizer': None, 'recurrent_regularizer': None, 'bias_regularizer': None, 'activity_regularizer': None, 'kernel_constraint': None, 'recurrent_constraint': None, 'bias_constraint': None, 'dropout': 0.0, 'recurrent_dropout': 0.0, 'implementation': 1}}, 'merge_mode': 'sum'}\n",
            "[array([[0.1, 0.1, 0.1, 0.1, 0.1, 0.1, 0.1, 0.1],\n",
            "       [0.1, 0.1, 0.1, 0.1, 0.1, 0.1, 0.1, 0.1]], dtype=float32), array([[0.1, 0.1, 0.1, 0.1, 0.1, 0.1, 0.1, 0.1],\n",
            "       [0.1, 0.1, 0.1, 0.1, 0.1, 0.1, 0.1, 0.1]], dtype=float32), array([[0.1, 0.1, 0.1, 0.1, 0.1, 0.1, 0.1, 0.1],\n",
            "       [0.1, 0.1, 0.1, 0.1, 0.1, 0.1, 0.1, 0.1]], dtype=float32), array([[0.1, 0.1, 0.1, 0.1, 0.1, 0.1, 0.1, 0.1],\n",
            "       [0.1, 0.1, 0.1, 0.1, 0.1, 0.1, 0.1, 0.1]], dtype=float32)]\n"
          ],
          "name": "stdout"
        }
      ]
    }
  ]
}