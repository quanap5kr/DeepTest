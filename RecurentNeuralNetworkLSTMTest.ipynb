{
  "nbformat": 4,
  "nbformat_minor": 0,
  "metadata": {
    "colab": {
      "name": "RecurentNeuralNetworkLSTMTest.ipynb",
      "version": "0.3.2",
      "provenance": [],
      "collapsed_sections": [],
      "include_colab_link": true
    },
    "kernelspec": {
      "name": "python3",
      "display_name": "Python 3"
    },
    "accelerator": "GPU"
  },
  "cells": [
    {
      "cell_type": "markdown",
      "metadata": {
        "id": "view-in-github",
        "colab_type": "text"
      },
      "source": [
        "<a href=\"https://colab.research.google.com/github/quanap5kr/DeepTest/blob/master/RecurentNeuralNetworkLSTMTest.ipynb\" target=\"_parent\"><img src=\"https://colab.research.google.com/assets/colab-badge.svg\" alt=\"Open In Colab\"/></a>"
      ]
    },
    {
      "cell_type": "code",
      "metadata": {
        "id": "h_cQdx_uMajP",
        "colab_type": "code",
        "outputId": "364a0534-152b-444f-8b0b-421b8d9dc87d",
        "colab": {
          "base_uri": "https://localhost:8080/",
          "height": 33
        }
      },
      "source": [
        "from google.colab import drive\n",
        "drive.mount('/content/gdrive/')"
      ],
      "execution_count": 1,
      "outputs": [
        {
          "output_type": "stream",
          "text": [
            "Drive already mounted at /content/gdrive/; to attempt to forcibly remount, call drive.mount(\"/content/gdrive/\", force_remount=True).\n"
          ],
          "name": "stdout"
        }
      ]
    },
    {
      "cell_type": "markdown",
      "metadata": {
        "id": "5EBcSjUNKvrP",
        "colab_type": "text"
      },
      "source": [
        "###LSTM-RNN Test 01"
      ]
    },
    {
      "cell_type": "code",
      "metadata": {
        "id": "aWpiN4IvK3SD",
        "colab_type": "code",
        "outputId": "5ba888f6-8de2-4725-8200-38acfa9c6938",
        "colab": {
          "base_uri": "https://localhost:8080/",
          "height": 67
        }
      },
      "source": [
        "from keras.models import Model\n",
        "from keras.layers import Input\n",
        "from keras.layers import LSTM\n",
        "from numpy import array\n",
        "import keras\n",
        "import warnings\n",
        "warnings.filterwarnings('ignore')\n",
        "\n",
        "k_init = keras.initializers.Constant(value=0.1)\n",
        "b_init = keras.initializers.Constant(value=0.05)\n",
        "r_init = keras.initializers.Constant(value=0.1)\n",
        "# LSTM units\n",
        "units = 2\n",
        "\n",
        "# define model\n",
        "inputs1 = Input(shape=(3, 2))\n",
        "# we should setting recurrent_activation = 'sigmoid' because default as 'hard_sigmoid'\n",
        "lstm = LSTM(units, return_sequences = True, recurrent_activation='sigmoid', use_bias=False, activation='tanh',kernel_initializer=k_init, bias_initializer=b_init, recurrent_initializer=r_init)(inputs1)\n",
        "model = Model(inputs=inputs1, outputs=lstm)\n",
        "# define input data\n",
        "data = array([0.1, 0.2, 0.3, 0.1, 0.2, 0.3]).reshape((1,3,2))\n",
        "# make and show prediction\n",
        "output = model.predict(data)\n",
        "print(output, output.shape)"
      ],
      "execution_count": 5,
      "outputs": [
        {
          "output_type": "stream",
          "text": [
            "[[[0.00772376 0.00772376]\n",
            "  [0.01477655 0.01477655]\n",
            "  [0.02155165 0.02155165]]] (1, 3, 2)\n"
          ],
          "name": "stdout"
        }
      ]
    },
    {
      "cell_type": "markdown",
      "metadata": {
        "id": "V6lbL73tJt98",
        "colab_type": "text"
      },
      "source": [
        "### LSTM-RNN Test 02"
      ]
    },
    {
      "cell_type": "code",
      "metadata": {
        "id": "9UTaxklNJxQt",
        "colab_type": "code",
        "outputId": "6db464ad-9eea-460c-93a6-4478cce0922f",
        "colab": {
          "base_uri": "https://localhost:8080/",
          "height": 67
        }
      },
      "source": [
        "from keras.models import Model\n",
        "from keras.layers import Input\n",
        "from keras.layers import LSTM\n",
        "from numpy import array\n",
        "import keras\n",
        "import warnings\n",
        "warnings.filterwarnings('ignore')\n",
        "\n",
        "k_init = keras.initializers.Constant(value=0.1)\n",
        "b_init = keras.initializers.Constant(value=0.0)\n",
        "r_init = keras.initializers.Constant(value=0.2)\n",
        "# LSTM units\n",
        "units = 2\n",
        "\n",
        "# define model\n",
        "inputs1 = Input(shape=(3, 2))\n",
        "# we should setting recurrent_activation = 'sigmoid' because default as 'hard_sigmoid'\n",
        "lstm = LSTM(units, return_sequences = True, recurrent_activation='sigmoid', use_bias=False, activation='tanh',kernel_initializer=k_init, bias_initializer=b_init, recurrent_initializer=r_init)(inputs1)\n",
        "model = Model(inputs=inputs1, outputs=lstm)\n",
        "# define input data\n",
        "data = array([0.1, 0.2, 0.3, 0.1, 0.2, 0.3]).reshape((1,3,2))\n",
        "# make and show prediction\n",
        "output = model.predict(data)\n",
        "print(output, output.shape)"
      ],
      "execution_count": 7,
      "outputs": [
        {
          "output_type": "stream",
          "text": [
            "[[[0.00772376 0.00772376]\n",
            "  [0.01520084 0.01520084]\n",
            "  [0.02265241 0.02265241]]] (1, 3, 2)\n"
          ],
          "name": "stdout"
        }
      ]
    },
    {
      "cell_type": "markdown",
      "metadata": {
        "id": "LgNCmOnDIVbL",
        "colab_type": "text"
      },
      "source": [
        "### LSTM-RNN Test 03"
      ]
    },
    {
      "cell_type": "code",
      "metadata": {
        "id": "TDX0ONUSZRET",
        "colab_type": "code",
        "outputId": "b0010ed8-333e-483f-fa92-71cb2fe447f2",
        "colab": {
          "base_uri": "https://localhost:8080/",
          "height": 33
        }
      },
      "source": [
        "from keras.models import Model\n",
        "from keras.layers import Input\n",
        "from keras.layers import LSTM\n",
        "from numpy import array\n",
        "import keras\n",
        "import warnings\n",
        "warnings.filterwarnings('ignore')\n",
        "\n",
        "k_init = keras.initializers.Constant(value=0.1)\n",
        "b_init = keras.initializers.Constant(value=0.0)\n",
        "r_init = keras.initializers.Constant(value=0.2)\n",
        "# LSTM units\n",
        "units = 2\n",
        "\n",
        "# define model\n",
        "inputs1 = Input(shape=(3, 2))\n",
        "# we should setting recurrent_activation = 'sigmoid' because default as 'hard_sigmoid'\n",
        "lstm = LSTM(units, return_sequences = False, recurrent_activation='sigmoid', use_bias=False, activation='tanh',kernel_initializer=k_init, bias_initializer=b_init, recurrent_initializer=r_init)(inputs1)\n",
        "model = Model(inputs=inputs1, outputs=lstm)\n",
        "# define input data\n",
        "data = array([0.1, 0.2, 0.3, 0.1, 0.2, 0.3]).reshape((1,3,2))\n",
        "# make and show prediction\n",
        "output = model.predict(data)\n",
        "print(output, output.shape)"
      ],
      "execution_count": 8,
      "outputs": [
        {
          "output_type": "stream",
          "text": [
            "[[0.02265241 0.02265241]] (1, 2)\n"
          ],
          "name": "stdout"
        }
      ]
    },
    {
      "cell_type": "markdown",
      "metadata": {
        "id": "AT32bXDdfC54",
        "colab_type": "text"
      },
      "source": [
        "###Bonus"
      ]
    },
    {
      "cell_type": "code",
      "metadata": {
        "id": "sU0l2sRzN-j1",
        "colab_type": "code",
        "outputId": "1072a979-45a9-425e-d5e7-3de8d8d6f5fa",
        "colab": {
          "base_uri": "https://localhost:8080/",
          "height": 137
        }
      },
      "source": [
        "for layer in model.layers:\n",
        "  g=layer.get_config()\n",
        "  h=layer.get_weights()\n",
        "  print (g)\n",
        "  print (h)"
      ],
      "execution_count": 9,
      "outputs": [
        {
          "output_type": "stream",
          "text": [
            "{'batch_input_shape': (None, 3, 2), 'dtype': 'float32', 'sparse': False, 'name': 'input_7'}\n",
            "[]\n",
            "{'name': 'lstm_5', 'trainable': True, 'return_sequences': False, 'return_state': False, 'go_backwards': False, 'stateful': False, 'unroll': False, 'units': 2, 'activation': 'tanh', 'recurrent_activation': 'sigmoid', 'use_bias': False, 'kernel_initializer': {'class_name': 'Constant', 'config': {'value': 0.1}}, 'recurrent_initializer': {'class_name': 'Constant', 'config': {'value': 0.2}}, 'bias_initializer': {'class_name': 'Constant', 'config': {'value': 0.0}}, 'unit_forget_bias': True, 'kernel_regularizer': None, 'recurrent_regularizer': None, 'bias_regularizer': None, 'activity_regularizer': None, 'kernel_constraint': None, 'recurrent_constraint': None, 'bias_constraint': None, 'dropout': 0.0, 'recurrent_dropout': 0.0, 'implementation': 1}\n",
            "[array([[0.1, 0.1, 0.1, 0.1, 0.1, 0.1, 0.1, 0.1],\n",
            "       [0.1, 0.1, 0.1, 0.1, 0.1, 0.1, 0.1, 0.1]], dtype=float32), array([[0.2, 0.2, 0.2, 0.2, 0.2, 0.2, 0.2, 0.2],\n",
            "       [0.2, 0.2, 0.2, 0.2, 0.2, 0.2, 0.2, 0.2]], dtype=float32)]\n"
          ],
          "name": "stdout"
        }
      ]
    }
  ]
}